{
  "nbformat": 4,
  "nbformat_minor": 0,
  "metadata": {
    "colab": {
      "provenance": [],
      "authorship_tag": "ABX9TyOcjnkwm+B/AuPx6f2XIlZz",
      "include_colab_link": true
    },
    "kernelspec": {
      "name": "python3",
      "display_name": "Python 3"
    },
    "language_info": {
      "name": "python"
    }
  },
  "cells": [
    {
      "cell_type": "markdown",
      "metadata": {
        "id": "view-in-github",
        "colab_type": "text"
      },
      "source": [
        "<a href=\"https://colab.research.google.com/github/mzaoualim/Business_Proposals/blob/main/Web_Scraping/Web_Scraper_Steps.ipynb\" target=\"_parent\"><img src=\"https://colab.research.google.com/assets/colab-badge.svg\" alt=\"Open In Colab\"/></a>"
      ]
    },
    {
      "cell_type": "code",
      "execution_count": 2,
      "metadata": {
        "id": "nJ1PeZUgzWwH"
      },
      "outputs": [],
      "source": [
        "import pandas as pd\n",
        "import numpy as np\n",
        "import datetime\n",
        "from bs4 import BeautifulSoup\n",
        "import requests"
      ]
    },
    {
      "cell_type": "code",
      "source": [
        "# link to wg-gesucht.de\n",
        "link = 'https://www.wg-gesucht.de/en/wohnungen-in-Berlin.5.2.0.0.html'\n",
        "\n",
        "# dictionnary of city codes\n",
        "city = {\n",
        "    'Aachen': 1,\n",
        "    'Augsburg': 2,\n",
        "    'Baden-Baden': 3,\n",
        "    'Bad Tölz': 4,\n",
        "    'Bamberg': 5,\n",
        "    'Bayreuth': 6,\n",
        "    'Bergisch Gladbach': 7,\n",
        "    'Berlin': 8,\n",
        "        }\n",
        "\n",
        "# dictionnary of home types by code\n",
        "home = {\n",
        "    'Flatshares': 0,\n",
        "    '1 Room Flats': 1,\n",
        "    'Flats': 2,\n",
        "    'Houses': 3\n",
        "    }"
      ],
      "metadata": {
        "id": "88Umjqr8zqoU"
      },
      "execution_count": 16,
      "outputs": []
    },
    {
      "cell_type": "code",
      "source": [
        "tab = pd.read_html(link)\n"
      ],
      "metadata": {
        "id": "EE_Ui2bE2wL8"
      },
      "execution_count": 17,
      "outputs": []
    },
    {
      "cell_type": "code",
      "source": [
        "tab[0]['District']"
      ],
      "metadata": {
        "colab": {
          "base_uri": "https://localhost:8080/"
        },
        "id": "WKqxZUFO2217",
        "outputId": "929a36d8-55fe-495c-e2ba-ae0823de1412"
      },
      "execution_count": 19,
      "outputs": [
        {
          "output_type": "execute_result",
          "data": {
            "text/plain": [
              "0     Flats from Baugenossenschaft für den Stadt- un...\n",
              "1                                   Bamberg  Inselstadt\n",
              "2                 Bamberg  Bamberg Mitte - Nähe Bahnhof\n",
              "3                                   Bamberg  Innenstadt\n",
              "4                                   Bamberg  Innenstadt\n",
              "5                                  Bamberg  Gartenstadt\n",
              "6                                   Bamberg  Stegaurach\n",
              "7                                   Bamberg  Wunderburg\n",
              "8                                   Bamberg  Innenstadt\n",
              "9                                               Bamberg\n",
              "10                                  Bamberg  Innenstadt\n",
              "11                                  Bamberg  Innenstadt\n",
              "12                                  Bamberg  Innenstadt\n",
              "13                                         Bamberg  Ost\n",
              "14                                        Bamberg  Berg\n",
              "15                                        Bamberg  Nord\n",
              "16                                         Bamberg  Ost\n",
              "17                                  Bamberg  Innenstadt\n",
              "18                                         Bamberg  Ost\n",
              "19                                        Bamberg  Zeil\n",
              "20                                    Bamberg  Gaustadt\n",
              "21                                                  NaN\n",
              "Name: District, dtype: object"
            ]
          },
          "metadata": {},
          "execution_count": 19
        }
      ]
    },
    {
      "cell_type": "code",
      "source": [],
      "metadata": {
        "id": "aVWm6Qx03HdD"
      },
      "execution_count": null,
      "outputs": []
    }
  ]
}